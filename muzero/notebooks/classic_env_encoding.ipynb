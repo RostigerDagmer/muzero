{
 "cells": [
  {
   "cell_type": "code",
   "execution_count": 1,
   "metadata": {},
   "outputs": [],
   "source": [
    "import gym\n",
    "import torch\n",
    "import sys\n",
    "sys.path.append('..')  # Adds the upper directory to the python path.\n",
    "from gym_env import ClipRewardWithBound, DoneOnLifeLoss, FireOnReset, MaxAndSkip, NoopReset, ObservationChannelFirst, PlayerIdAndActionMaskWrapper, ResizeAndGrayscaleFrame, ScaledFloatFrame, StackFrameAndAction, StackFrame"
   ]
  },
  {
   "cell_type": "code",
   "execution_count": 2,
   "metadata": {},
   "outputs": [],
   "source": [
    "def create_classic_environment(\n",
    "    env_name: str,\n",
    "    seed: int = 1,\n",
    "    stack_history: int = 1,\n",
    "    output_actions: bool = False,\n",
    ") -> gym.Env | tuple[gym.Env, list[str]]:\n",
    "    \"\"\"\n",
    "    Process gym env for classic games like CartPole, LunarLander, MountainCar\n",
    "\n",
    "    Args:\n",
    "        env_name: the environment name with version attached.\n",
    "        seed: seed the runtime.\n",
    "\n",
    "    Returns:\n",
    "        gym.Env for classic games\n",
    "    \"\"\"\n",
    "\n",
    "    env = gym.make(env_name)\n",
    "    env.reset(seed=seed)\n",
    "\n",
    "    if stack_history > 1:\n",
    "        env = StackFrameAndAction(env, stack_history, False)\n",
    "\n",
    "    env = PlayerIdAndActionMaskWrapper(env)\n",
    "    if output_actions:\n",
    "        if env_name == 'CartPole-v1':\n",
    "            return env, ['MOVE: left', 'MOVE: right']\n",
    "        if env_name == 'LunarLander-v2':\n",
    "            return env, ['NOOP', 'FIRE', 'MOVE: right', 'MOVE: left']\n",
    "        return env\n",
    "        # return env, env.unwrapped.get_action_meanings()\n",
    "    return env"
   ]
  },
  {
   "cell_type": "code",
   "execution_count": null,
   "metadata": {},
   "outputs": [],
   "source": []
  },
  {
   "cell_type": "code",
   "execution_count": 3,
   "metadata": {},
   "outputs": [],
   "source": [
    "env, actions = create_classic_environment('CartPole-v1', output_actions=True)"
   ]
  },
  {
   "cell_type": "code",
   "execution_count": 4,
   "metadata": {},
   "outputs": [
    {
     "data": {
      "text/plain": [
       "['MOVE: left', 'MOVE: right']"
      ]
     },
     "execution_count": 4,
     "metadata": {},
     "output_type": "execute_result"
    }
   ],
   "source": [
    "actions"
   ]
  },
  {
   "cell_type": "code",
   "execution_count": 5,
   "metadata": {},
   "outputs": [],
   "source": [
    "samples = []\n",
    "\n",
    "for _ in range(10):\n",
    "    samples.append(env.step(0))"
   ]
  },
  {
   "cell_type": "code",
   "execution_count": 6,
   "metadata": {},
   "outputs": [
    {
     "data": {
      "text/plain": [
       "[(array([ 0.00208309, -0.14954773, -0.03468674,  0.32611182], dtype=float32),\n",
       "  1.0,\n",
       "  False,\n",
       "  {}),\n",
       " (array([-0.00090786, -0.3441591 , -0.0281645 ,  0.60765743], dtype=float32),\n",
       "  1.0,\n",
       "  False,\n",
       "  {}),\n",
       " (array([-0.00779105, -0.5388762 , -0.01601136,  0.89133793], dtype=float32),\n",
       "  1.0,\n",
       "  False,\n",
       "  {}),\n",
       " (array([-0.01856857, -0.7337773 ,  0.0018154 ,  1.1789451 ], dtype=float32),\n",
       "  1.0,\n",
       "  False,\n",
       "  {}),\n",
       " (array([-0.03324412, -0.9289228 ,  0.0253943 ,  1.4721965 ], dtype=float32),\n",
       "  1.0,\n",
       "  False,\n",
       "  {}),\n",
       " (array([-0.05182257, -1.1243459 ,  0.05483823,  1.7727017 ], dtype=float32),\n",
       "  1.0,\n",
       "  False,\n",
       "  {}),\n",
       " (array([-0.07430949, -1.3200417 ,  0.09029227,  2.0819185 ], dtype=float32),\n",
       "  1.0,\n",
       "  False,\n",
       "  {}),\n",
       " (array([-0.10071032, -1.5159537 ,  0.13193063,  2.4010992 ], dtype=float32),\n",
       "  1.0,\n",
       "  False,\n",
       "  {}),\n",
       " (array([-0.1310294 , -1.7119577 ,  0.17995262,  2.7312255 ], dtype=float32),\n",
       "  1.0,\n",
       "  False,\n",
       "  {}),\n",
       " (array([-0.16526856, -1.9078434 ,  0.23457713,  3.0729303 ], dtype=float32),\n",
       "  1.0,\n",
       "  True,\n",
       "  {})]"
      ]
     },
     "execution_count": 6,
     "metadata": {},
     "output_type": "execute_result"
    }
   ],
   "source": [
    "samples"
   ]
  },
  {
   "cell_type": "code",
   "execution_count": 7,
   "metadata": {},
   "outputs": [],
   "source": [
    "sys.path.append('../..')"
   ]
  },
  {
   "cell_type": "code",
   "execution_count": 8,
   "metadata": {},
   "outputs": [],
   "source": [
    "from continous import RepresentationLMClip"
   ]
  },
  {
   "cell_type": "code",
   "execution_count": 9,
   "metadata": {},
   "outputs": [],
   "source": [
    "# import os\n",
    "\n",
    "# print(os.getcwd())\n",
    "# os.chdir('../..')\n",
    "# os.getcwd()"
   ]
  },
  {
   "cell_type": "code",
   "execution_count": 10,
   "metadata": {},
   "outputs": [],
   "source": [
    "# os.getcwd()"
   ]
  },
  {
   "cell_type": "code",
   "execution_count": 11,
   "metadata": {},
   "outputs": [
    {
     "name": "stderr",
     "output_type": "stream",
     "text": [
      "/Users/paul/dev/muzero/.venv/lib/python3.10/site-packages/torch/nn/modules/transformer.py:306: UserWarning: enable_nested_tensor is True, but self.use_nested_tensor is False because encoder_layer.self_attn.batch_first was not True(use batch_first for better inference performance)\n",
      "  warnings.warn(f\"enable_nested_tensor is True, but self.use_nested_tensor is False because {why_not_sparsity_fast_path}\")\n"
     ]
    }
   ],
   "source": [
    "repr_net = RepresentationLMClip(512, 4, 8, 1)"
   ]
  },
  {
   "cell_type": "code",
   "execution_count": 17,
   "metadata": {},
   "outputs": [],
   "source": [
    "tensor_inpt = torch.stack([torch.tensor([sample[0]]) for sample in samples])"
   ]
  },
  {
   "cell_type": "code",
   "execution_count": 18,
   "metadata": {},
   "outputs": [
    {
     "name": "stdout",
     "output_type": "stream",
     "text": [
      "tensor([[[ 2.0831e-03, -1.4955e-01, -3.4687e-02,  3.2611e-01]],\n",
      "\n",
      "        [[-9.0786e-04, -3.4416e-01, -2.8165e-02,  6.0766e-01]],\n",
      "\n",
      "        [[-7.7910e-03, -5.3888e-01, -1.6011e-02,  8.9134e-01]],\n",
      "\n",
      "        [[-1.8569e-02, -7.3378e-01,  1.8154e-03,  1.1789e+00]],\n",
      "\n",
      "        [[-3.3244e-02, -9.2892e-01,  2.5394e-02,  1.4722e+00]],\n",
      "\n",
      "        [[-5.1823e-02, -1.1243e+00,  5.4838e-02,  1.7727e+00]],\n",
      "\n",
      "        [[-7.4309e-02, -1.3200e+00,  9.0292e-02,  2.0819e+00]],\n",
      "\n",
      "        [[-1.0071e-01, -1.5160e+00,  1.3193e-01,  2.4011e+00]],\n",
      "\n",
      "        [[-1.3103e-01, -1.7120e+00,  1.7995e-01,  2.7312e+00]],\n",
      "\n",
      "        [[-1.6527e-01, -1.9078e+00,  2.3458e-01,  3.0729e+00]]])\n",
      "torch.Size([10, 1, 4])\n"
     ]
    }
   ],
   "source": [
    "print(tensor_inpt)\n",
    "print(tensor_inpt.shape)"
   ]
  },
  {
   "cell_type": "code",
   "execution_count": 19,
   "metadata": {},
   "outputs": [],
   "source": [
    "tensor_inpt = tensor_inpt[:8].permute(1, 0, 2)"
   ]
  },
  {
   "cell_type": "code",
   "execution_count": 20,
   "metadata": {},
   "outputs": [
    {
     "data": {
      "text/plain": [
       "torch.Size([1, 8, 4])"
      ]
     },
     "execution_count": 20,
     "metadata": {},
     "output_type": "execute_result"
    }
   ],
   "source": [
    "tensor_inpt.shape"
   ]
  },
  {
   "cell_type": "code",
   "execution_count": 22,
   "metadata": {},
   "outputs": [
    {
     "name": "stdout",
     "output_type": "stream",
     "text": [
      "tensor([ 0.0021, -0.1495, -0.0347,  0.3261])\n",
      "tensor([-0.0009, -0.3442, -0.0282,  0.6077])\n",
      "tensor([-0.0078, -0.5389, -0.0160,  0.8913])\n",
      "tensor([-0.0186, -0.7338,  0.0018,  1.1789])\n",
      "tensor([-0.0332, -0.9289,  0.0254,  1.4722])\n",
      "tensor([-0.0518, -1.1243,  0.0548,  1.7727])\n",
      "tensor([-0.0743, -1.3200,  0.0903,  2.0819])\n",
      "tensor([-0.1007, -1.5160,  0.1319,  2.4011])\n"
     ]
    }
   ],
   "source": [
    "rep = repr_net(tensor_inpt)"
   ]
  },
  {
   "cell_type": "code",
   "execution_count": 23,
   "metadata": {},
   "outputs": [
    {
     "data": {
      "text/plain": [
       "torch.Size([1, 512])"
      ]
     },
     "execution_count": 23,
     "metadata": {},
     "output_type": "execute_result"
    }
   ],
   "source": [
    "rep.shape"
   ]
  },
  {
   "cell_type": "code",
   "execution_count": 24,
   "metadata": {},
   "outputs": [],
   "source": [
    "total_params = sum(p.numel() for p in repr_net.parameters() if p.requires_grad)"
   ]
  },
  {
   "cell_type": "code",
   "execution_count": 28,
   "metadata": {},
   "outputs": [
    {
     "name": "stdout",
     "output_type": "stream",
     "text": [
      "layer: transformer_layer.layers.0.self_attn.in_proj_weight; (786432)\n",
      "layer: transformer_layer.layers.0.self_attn.in_proj_bias; (1536)\n",
      "layer: transformer_layer.layers.0.self_attn.out_proj.weight; (262144)\n",
      "layer: transformer_layer.layers.0.self_attn.out_proj.bias; (512)\n",
      "layer: transformer_layer.layers.0.linear1.weight; (1048576)\n",
      "layer: transformer_layer.layers.0.linear1.bias; (2048)\n",
      "layer: transformer_layer.layers.0.linear2.weight; (1048576)\n",
      "layer: transformer_layer.layers.0.linear2.bias; (512)\n",
      "layer: transformer_layer.layers.0.norm1.weight; (512)\n",
      "layer: transformer_layer.layers.0.norm1.bias; (512)\n",
      "layer: transformer_layer.layers.0.norm2.weight; (512)\n",
      "layer: transformer_layer.layers.0.norm2.bias; (512)\n",
      "layer: mlp.0.weight; (2048)\n",
      "layer: mlp.0.bias; (4)\n",
      "layer: mlp.3.weight; (2048)\n",
      "layer: mlp.3.bias; (512)\n"
     ]
    }
   ],
   "source": [
    "for n, p in repr_net.named_parameters():\n",
    "    if p.requires_grad:\n",
    "        print(f\"layer: {n}; ({p.numel()})\")"
   ]
  },
  {
   "cell_type": "code",
   "execution_count": null,
   "metadata": {},
   "outputs": [],
   "source": []
  },
  {
   "cell_type": "markdown",
   "metadata": {},
   "source": [
    "# Notes 1\n",
    "\n",
    "In case of classical control the output vector somehow has to encode output intensity.\n",
    "\n",
    "E.g.:\n",
    "You push joystick left at (0.1) joystick up at (0.001) joystick right would ideally be aligned in embedding space such that in case the vector aligns positively with joystick left it can only negatively align with joystick right but this is not guaranteed. In practice they will most likely be extremely close together.\n",
    "\n",
    "Idea 1:\n",
    "\n",
    "log scaling on vector magnitude for intensity\n",
    "\n",
    "Idea 2:\n",
    "\n",
    "Poincare metric to disalign set of very close embedding vectors in local space."
   ]
  },
  {
   "cell_type": "markdown",
   "metadata": {},
   "source": []
  },
  {
   "cell_type": "code",
   "execution_count": 46,
   "metadata": {},
   "outputs": [
    {
     "data": {
      "image/png": "[encoded data removed]",
      "text/plain": [
       "<Figure size 640x480 with 1 Axes>"
      ]
     },
     "metadata": {},
     "output_type": "display_data"
    }
   ],
   "source": [
    "import numpy as np\n",
    "import matplotlib.pyplot as plt\n",
    "\n",
    "x = np.linspace(0, 5, 100)\n",
    "y = np.log(x**2 + 1)\n",
    "\n",
    "plt.plot(x, y)\n",
    "plt.show()"
   ]
  },
  {
   "cell_type": "markdown",
   "metadata": {},
   "source": [
    "# Notes 2\n",
    "\n",
    "### How to do single-tick multi-action correctly? (Multitasking)\n",
    "\n",
    "Problem:\n",
    "\n",
    "Consider a robot hand with 5 fingers.\n",
    "Each of the fingers with 3 segments might have to apply an acceleration a0 ... a14 to each of the actuators, in this tick to perform an action goal in n ticks.\n",
    "\n",
    "There must exist a point in embedding space between all actions \"apply acceleration to s{k}\" for k in {0..14}.\n"
   ]
  },
  {
   "cell_type": "code",
   "execution_count": null,
   "metadata": {},
   "outputs": [],
   "source": []
  }
 ],
 "metadata": {
  "kernelspec": {
   "display_name": ".venv",
   "language": "python",
   "name": "python3"
  },
  "language_info": {
   "codemirror_mode": {
    "name": "ipython",
    "version": 3
   },
   "file_extension": ".py",
   "mimetype": "text/x-python",
   "name": "python",
   "nbconvert_exporter": "python",
   "pygments_lexer": "ipython3",
   "version": "3.10.9"
  }
 },
 "nbformat": 4,
 "nbformat_minor": 2
}

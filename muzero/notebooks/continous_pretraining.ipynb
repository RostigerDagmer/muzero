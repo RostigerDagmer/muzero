{
 "cells": [
  {
   "cell_type": "code",
   "execution_count": 11,
   "metadata": {},
   "outputs": [],
   "source": [
    "# append parent directory to path\n",
    "import sys\n",
    "sys.path.append(\"../..\")\n",
    "\n",
    "from continous import ContinousPrediction, ContinousActionEncoder, tokenizer\n",
    "import json\n",
    "actions = json.loads(open(\"actions.json\").read())"
   ]
  },
  {
   "cell_type": "code",
   "execution_count": 12,
   "metadata": {},
   "outputs": [],
   "source": [
    "\n",
    "formatted_actions = []\n",
    "prompt = lambda action_typ, action: f\"{action_typ}: {action}\"\n",
    "for action_typ, actions_ in actions.items():\n",
    "    for action in actions_:\n",
    "        formatted_actions.append(prompt(action_typ, action))"
   ]
  },
  {
   "cell_type": "code",
   "execution_count": 13,
   "metadata": {},
   "outputs": [],
   "source": [
    "tokenizer.add_special_tokens({'pad_token': '[PAD]'})\n",
    "tokenized_actions = tokenizer(formatted_actions, padding=True, return_tensors=\"pt\")"
   ]
  },
  {
   "cell_type": "code",
   "execution_count": 16,
   "metadata": {},
   "outputs": [],
   "source": [
    "encoder = ContinousActionEncoder()"
   ]
  },
  {
   "cell_type": "code",
   "execution_count": 20,
   "metadata": {},
   "outputs": [],
   "source": [
    "embedded_actions = encoder(**tokenized_actions)"
   ]
  },
  {
   "cell_type": "code",
   "execution_count": 21,
   "metadata": {},
   "outputs": [
    {
     "data": {
      "text/plain": [
       "tensor([[ 0.0037, -0.0440, -0.0106,  ..., -0.0105, -0.0125,  0.0240],\n",
       "        [-0.0176, -0.0251, -0.0212,  ...,  0.0112, -0.0173, -0.0417],\n",
       "        [-0.0210, -0.0173, -0.0187,  ..., -0.0305, -0.0193,  0.0408],\n",
       "        ...,\n",
       "        [-0.0218, -0.0424, -0.0061,  ...,  0.0394, -0.0247, -0.0070],\n",
       "        [-0.0086, -0.0513,  0.0189,  ...,  0.0417,  0.0113, -0.0583],\n",
       "        [-0.0064, -0.0148,  0.0164,  ...,  0.0137,  0.0106,  0.0022]])"
      ]
     },
     "execution_count": 21,
     "metadata": {},
     "output_type": "execute_result"
    }
   ],
   "source": [
    "embedded_actions"
   ]
  },
  {
   "cell_type": "code",
   "execution_count": 31,
   "metadata": {},
   "outputs": [],
   "source": [
    "import torch\n",
    "def loss(pred, target):\n",
    "    return torch.nn.functional.cosine_embedding_loss(pred, target, torch.ones(pred.shape[0]))"
   ]
  },
  {
   "cell_type": "code",
   "execution_count": 23,
   "metadata": {},
   "outputs": [],
   "source": [
    "predictor = ContinousPrediction(512, 64, 61, 512)"
   ]
  },
  {
   "cell_type": "code",
   "execution_count": 24,
   "metadata": {},
   "outputs": [],
   "source": [
    "def random_input(B: int) -> torch.Tensor:\n",
    "    return torch.randn(B, 512)"
   ]
  },
  {
   "cell_type": "code",
   "execution_count": 28,
   "metadata": {},
   "outputs": [],
   "source": [
    "pi_probs, values = predictor(random_input(4))"
   ]
  },
  {
   "cell_type": "code",
   "execution_count": 29,
   "metadata": {},
   "outputs": [
    {
     "data": {
      "text/plain": [
       "torch.Size([4, 512])"
      ]
     },
     "execution_count": 29,
     "metadata": {},
     "output_type": "execute_result"
    }
   ],
   "source": [
    "pi_probs.shape"
   ]
  },
  {
   "cell_type": "code",
   "execution_count": 32,
   "metadata": {},
   "outputs": [
    {
     "data": {
      "text/plain": [
       "tensor(0.9964, grad_fn=<MeanBackward0>)"
      ]
     },
     "execution_count": 32,
     "metadata": {},
     "output_type": "execute_result"
    }
   ],
   "source": [
    "loss(pi_probs, embedded_actions[0:4])"
   ]
  },
  {
   "cell_type": "code",
   "execution_count": 120,
   "metadata": {},
   "outputs": [
    {
     "data": {
      "text/plain": [
       "torch.Size([4, 3])"
      ]
     },
     "execution_count": 120,
     "metadata": {},
     "output_type": "execute_result"
    }
   ],
   "source": [
    "t1 = torch.tensor([[1.0, 0.0, 0.0], [0.0, 1.0, 0.0], [0.0, 0.0, 1.0], [0.0, 0.5, 0.5]])\n",
    "t1.shape"
   ]
  },
  {
   "cell_type": "code",
   "execution_count": 130,
   "metadata": {},
   "outputs": [
    {
     "data": {
      "text/plain": [
       "tensor([[1.0000, 0.0000, 0.0000],\n",
       "        [0.0000, 1.0000, 0.0000],\n",
       "        [0.0000, 0.0000, 1.0000],\n",
       "        [0.0000, 0.5000, 0.5000]])"
      ]
     },
     "execution_count": 130,
     "metadata": {},
     "output_type": "execute_result"
    }
   ],
   "source": [
    "t1"
   ]
  },
  {
   "cell_type": "code",
   "execution_count": 121,
   "metadata": {},
   "outputs": [],
   "source": [
    "t2 = torch.tensor([[[0.0, 1.0, 0.0], [0.0, 0.1, 0.5], [.8, 0.2, 0.0]], [[0.0, .5, 0.5], [0.0, 0.3, .6], [1.0, 0.0, 0.0]]])"
   ]
  },
  {
   "cell_type": "code",
   "execution_count": 122,
   "metadata": {},
   "outputs": [
    {
     "data": {
      "text/plain": [
       "tensor([[[0.0000, 1.0000, 0.0000],\n",
       "         [0.0000, 0.1000, 0.5000],\n",
       "         [0.8000, 0.2000, 0.0000]],\n",
       "\n",
       "        [[0.0000, 0.5000, 0.5000],\n",
       "         [0.0000, 0.3000, 0.6000],\n",
       "         [1.0000, 0.0000, 0.0000]]])"
      ]
     },
     "execution_count": 122,
     "metadata": {},
     "output_type": "execute_result"
    }
   ],
   "source": [
    "t2"
   ]
  },
  {
   "cell_type": "code",
   "execution_count": 158,
   "metadata": {},
   "outputs": [
    {
     "data": {
      "text/plain": [
       "torch.Size([2, 3, 3])"
      ]
     },
     "execution_count": 158,
     "metadata": {},
     "output_type": "execute_result"
    }
   ],
   "source": [
    "t2.shape"
   ]
  },
  {
   "cell_type": "code",
   "execution_count": 123,
   "metadata": {},
   "outputs": [],
   "source": [
    "cos_sim = torch.nn.CosineSimilarity(dim=-1)"
   ]
  },
  {
   "cell_type": "code",
   "execution_count": 133,
   "metadata": {},
   "outputs": [],
   "source": [
    "sims = torch.stack([cos_sim(t2[:,i,:], t1.unsqueeze(1)) for i in range(t2.shape[1])], dim=-1)"
   ]
  },
  {
   "cell_type": "code",
   "execution_count": 134,
   "metadata": {},
   "outputs": [
    {
     "data": {
      "text/plain": [
       "tensor([[[0.0000, 0.0000, 0.9701],\n",
       "         [0.0000, 0.0000, 1.0000]],\n",
       "\n",
       "        [[1.0000, 0.1961, 0.2425],\n",
       "         [0.7071, 0.4472, 0.0000]],\n",
       "\n",
       "        [[0.0000, 0.9806, 0.0000],\n",
       "         [0.7071, 0.8944, 0.0000]],\n",
       "\n",
       "        [[0.7071, 0.8321, 0.1715],\n",
       "         [1.0000, 0.9487, 0.0000]]])"
      ]
     },
     "execution_count": 134,
     "metadata": {},
     "output_type": "execute_result"
    }
   ],
   "source": [
    "sims"
   ]
  },
  {
   "cell_type": "code",
   "execution_count": 135,
   "metadata": {},
   "outputs": [
    {
     "data": {
      "text/plain": [
       "torch.Size([4, 2, 3])"
      ]
     },
     "execution_count": 135,
     "metadata": {},
     "output_type": "execute_result"
    }
   ],
   "source": [
    "sims.shape"
   ]
  },
  {
   "cell_type": "code",
   "execution_count": 146,
   "metadata": {},
   "outputs": [
    {
     "data": {
      "text/plain": [
       "tensor([[1, 2, 0],\n",
       "        [3, 3, 0]])"
      ]
     },
     "execution_count": 146,
     "metadata": {},
     "output_type": "execute_result"
    }
   ],
   "source": [
    "sims.argmax(dim=0)"
   ]
  },
  {
   "cell_type": "code",
   "execution_count": 147,
   "metadata": {},
   "outputs": [],
   "source": [
    "selected = t1[sims.argmax(dim=0)]"
   ]
  },
  {
   "cell_type": "code",
   "execution_count": 148,
   "metadata": {},
   "outputs": [
    {
     "data": {
      "text/plain": [
       "tensor([[[0.0000, 1.0000, 0.0000],\n",
       "         [0.0000, 0.0000, 1.0000],\n",
       "         [1.0000, 0.0000, 0.0000]],\n",
       "\n",
       "        [[0.0000, 0.5000, 0.5000],\n",
       "         [0.0000, 0.5000, 0.5000],\n",
       "         [1.0000, 0.0000, 0.0000]]])"
      ]
     },
     "execution_count": 148,
     "metadata": {},
     "output_type": "execute_result"
    }
   ],
   "source": [
    "selected"
   ]
  },
  {
   "cell_type": "code",
   "execution_count": 178,
   "metadata": {},
   "outputs": [
    {
     "name": "stdout",
     "output_type": "stream",
     "text": [
      "Best match for tensor([0., 1., 0.]) is tensor([0., 1., 0.])\n",
      "not selected torch.Size([3, 3])\n",
      "Best match for tensor([0.0000, 0.1000, 0.5000]) is tensor([0., 0., 1.])\n",
      "not selected torch.Size([3, 3])\n",
      "Best match for tensor([0.8000, 0.2000, 0.0000]) is tensor([1., 0., 0.])\n",
      "not selected torch.Size([3, 3])\n",
      "no select batch torch.Size([9, 3])\n",
      "Best match for tensor([0.0000, 0.5000, 0.5000]) is tensor([0.0000, 0.5000, 0.5000])\n",
      "not selected torch.Size([3, 3])\n",
      "Best match for tensor([0.0000, 0.3000, 0.6000]) is tensor([0.0000, 0.5000, 0.5000])\n",
      "not selected torch.Size([3, 3])\n",
      "Best match for tensor([1., 0., 0.]) is tensor([1., 0., 0.])\n",
      "not selected torch.Size([3, 3])\n",
      "no select batch torch.Size([9, 3])\n"
     ]
    }
   ],
   "source": [
    "no_select = []\n",
    "# print(\"not selected\", no_select)\n",
    "for B in range(t2.shape[0]):\n",
    "    no_select_batch = []\n",
    "    for i in range(t2.shape[1]):\n",
    "        print(f\"Best match for {t2[B,i]} is {selected[B][i]}\")\n",
    "        not_selected = t1[~(t1 == selected[B][i]).all(dim=-1)]\n",
    "        print(\"not selected\", not_selected.shape)\n",
    "        no_select_batch.append(not_selected)\n",
    "    no_select_batch = torch.cat(no_select_batch, dim=0)\n",
    "    print(\"no select batch\", no_select_batch.shape)\n",
    "    no_select.append(no_select_batch)"
   ]
  },
  {
   "cell_type": "code",
   "execution_count": 179,
   "metadata": {},
   "outputs": [],
   "source": [
    "non_targets = torch.stack(no_select, dim=0)"
   ]
  },
  {
   "cell_type": "code",
   "execution_count": 180,
   "metadata": {},
   "outputs": [
    {
     "data": {
      "text/plain": [
       "torch.Size([2, 9, 3])"
      ]
     },
     "execution_count": 180,
     "metadata": {},
     "output_type": "execute_result"
    }
   ],
   "source": [
    "non_targets.shape"
   ]
  },
  {
   "cell_type": "code",
   "execution_count": 181,
   "metadata": {},
   "outputs": [],
   "source": [
    "a = torch.rand(10, 128)\n",
    "q = torch.rand(5, 128)"
   ]
  },
  {
   "cell_type": "code",
   "execution_count": 186,
   "metadata": {},
   "outputs": [],
   "source": [
    "sims = torch.einsum('ik, jk -> ij', a, q)"
   ]
  },
  {
   "cell_type": "code",
   "execution_count": 187,
   "metadata": {},
   "outputs": [
    {
     "data": {
      "text/plain": [
       "torch.Size([10, 5])"
      ]
     },
     "execution_count": 187,
     "metadata": {},
     "output_type": "execute_result"
    }
   ],
   "source": [
    "sims.shape"
   ]
  },
  {
   "cell_type": "code",
   "execution_count": 193,
   "metadata": {},
   "outputs": [],
   "source": [
    "comp = torch.stack([torch.stack([ai.dot(qj) for ai in a]) for qj in q], dim=-1) "
   ]
  },
  {
   "cell_type": "code",
   "execution_count": 195,
   "metadata": {},
   "outputs": [
    {
     "data": {
      "text/plain": [
       "tensor([[-7.6294e-06,  5.7220e-06,  0.0000e+00, -1.9073e-06, -3.8147e-06],\n",
       "        [ 0.0000e+00, -3.8147e-06, -3.8147e-06,  3.8147e-06, -1.9073e-06],\n",
       "        [-3.8147e-06,  0.0000e+00,  0.0000e+00,  3.8147e-06,  3.8147e-06],\n",
       "        [ 0.0000e+00,  0.0000e+00,  3.8147e-06,  3.8147e-06,  0.0000e+00],\n",
       "        [-3.8147e-06,  0.0000e+00,  3.8147e-06, -5.7220e-06,  5.7220e-06],\n",
       "        [ 1.5259e-05, -1.9073e-06,  0.0000e+00, -5.7220e-06,  1.9073e-06],\n",
       "        [-1.1444e-05, -3.8147e-06, -3.8147e-06,  1.5259e-05, -3.8147e-06],\n",
       "        [ 0.0000e+00, -1.9073e-06,  0.0000e+00,  0.0000e+00, -3.8147e-06],\n",
       "        [-3.8147e-06,  0.0000e+00,  0.0000e+00,  3.8147e-06,  0.0000e+00],\n",
       "        [ 0.0000e+00, -1.9073e-06,  0.0000e+00,  0.0000e+00,  0.0000e+00]])"
      ]
     },
     "execution_count": 195,
     "metadata": {},
     "output_type": "execute_result"
    }
   ],
   "source": [
    "comp - sims"
   ]
  },
  {
   "cell_type": "code",
   "execution_count": null,
   "metadata": {},
   "outputs": [],
   "source": []
  }
 ],
 "metadata": {
  "kernelspec": {
   "display_name": ".venv",
   "language": "python",
   "name": "python3"
  },
  "language_info": {
   "codemirror_mode": {
    "name": "ipython",
    "version": 3
   },
   "file_extension": ".py",
   "mimetype": "text/x-python",
   "name": "python",
   "nbconvert_exporter": "python",
   "pygments_lexer": "ipython3",
   "version": "3.10.9"
  }
 },
 "nbformat": 4,
 "nbformat_minor": 2
}

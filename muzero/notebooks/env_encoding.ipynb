{
 "cells": [
  {
   "cell_type": "code",
   "execution_count": 1,
   "metadata": {},
   "outputs": [
    {
     "name": "stderr",
     "output_type": "stream",
     "text": [
      "C:\\Users\\paulh\\AppData\\Local\\Packages\\PythonSoftwareFoundation.Python.3.9_qbz5n2kfra8p0\\LocalCache\\local-packages\\Python39\\site-packages\\requests\\__init__.py:102: RequestsDependencyWarning: urllib3 (1.26.6) or chardet (5.2.0)/charset_normalizer (2.0.6) doesn't match a supported version!\n",
      "  warnings.warn(\"urllib3 ({}) or chardet ({})/charset_normalizer ({}) doesn't match a supported \"\n"
     ]
    }
   ],
   "source": [
    "import gym\n",
    "import torch\n",
    "import sys\n",
    "sys.path.append('..')  # Adds the upper directory to the python path.\n",
    "from gym_env import ClipRewardWithBound, DoneOnLifeLoss, FireOnReset, MaxAndSkip, NoopReset, ObservationChannelFirst, PlayerIdAndActionMaskWrapper, ResizeAndGrayscaleFrame, ScaledFloatFrame, StackFrameAndAction, StackFrame\n"
   ]
  },
  {
   "cell_type": "code",
   "execution_count": 2,
   "metadata": {},
   "outputs": [],
   "source": [
    "def create_atari_environment(\n",
    "    env_name: str,\n",
    "    seed: int = 1,\n",
    "    frame_skip: int = 4,\n",
    "    frame_stack: int = 2,\n",
    "    screen_height: int = 96,\n",
    "    screen_width: int = 96,\n",
    "    noop_max: int = 30,\n",
    "    max_episode_steps: int = 108000,\n",
    "    terminal_on_life_loss: bool = False,\n",
    "    clip_reward: bool = False,\n",
    "    scale_obs: bool = False,\n",
    "    output_actions: bool = False\n",
    ") -> gym.Env:\n",
    "    \"\"\"\n",
    "    Process gym env for Atari games according to the Nature DQN paper.\n",
    "\n",
    "    Args:\n",
    "        env_name: the environment name without 'NoFrameskip' and version.\n",
    "        seed: seed the runtime.\n",
    "        frame_skip: the frequency at which the agent experiences the game,\n",
    "                the environment will also repeat action.\n",
    "        frame_stack: stack n last frames.\n",
    "        screen_height: height of the resized frame.\n",
    "        screen_width: width of the resized frame.\n",
    "        noop_max: maximum number of no-ops to apply at the beginning\n",
    "                of each episode to reduce determinism. These no-ops are applied at a\n",
    "                low-level, before frame skipping.\n",
    "        max_episode_steps: maximum steps for an episode.\n",
    "        terminal_on_life_loss: if True, mark end of game when loss a life, default off.\n",
    "        clip_reward: clip reward in the range of [-1, 1], default off.\n",
    "        scale_obs: scale the frame by devide 255, turn this on may require 4-5x more RAM when using experience replay, default off.\n",
    "\n",
    "    Returns:\n",
    "        preprocessed gym.Env for Atari games.\n",
    "    \"\"\"\n",
    "    if 'NoFrameskip' in env_name:\n",
    "        raise ValueError(f'Environment name should not include NoFrameskip, got {env_name}')\n",
    "\n",
    "    env = gym.make(f'{env_name}NoFrameskip-v4')\n",
    "    env.seed(seed)\n",
    "    # env.reset(seed=seed)\n",
    "\n",
    "    # Change TimeLimit wrapper to 108,000 steps (30 min) as default in the\n",
    "    # litterature instead of OpenAI Gym's default of 100,000 steps.\n",
    "    env = gym.wrappers.TimeLimit(env.env, max_episode_steps=None if max_episode_steps <= 0 else max_episode_steps)\n",
    "\n",
    "    env = NoopReset(env, noop_max=noop_max)\n",
    "    env = MaxAndSkip(env, skip=frame_skip)\n",
    "\n",
    "    if terminal_on_life_loss:\n",
    "        env = DoneOnLifeLoss(env)\n",
    "    if 'FIRE' in env.unwrapped.get_action_meanings():\n",
    "        env = FireOnReset(env)\n",
    "    if scale_obs:\n",
    "        env = ScaledFloatFrame(env)\n",
    "    if clip_reward:\n",
    "        env = ClipRewardWithBound(env, 1.0)\n",
    "\n",
    "    # The order is important as StackFrameAndAction expects channel first for Atari games.\n",
    "    env = ObservationChannelFirst(env, True)\n",
    "    if frame_stack > 1:\n",
    "        env = StackFrame(env, frame_stack, True)\n",
    "\n",
    "    env = PlayerIdAndActionMaskWrapper(env)\n",
    "    if output_actions:\n",
    "        return env, env.unwrapped.get_action_meanings()\n",
    "    return env"
   ]
  },
  {
   "cell_type": "code",
   "execution_count": 3,
   "metadata": {},
   "outputs": [],
   "source": [
    "env, actions = create_atari_environment('Breakout', screen_height=224, screen_width=224, output_actions=True)"
   ]
  },
  {
   "cell_type": "code",
   "execution_count": 4,
   "metadata": {},
   "outputs": [
    {
     "data": {
      "text/plain": [
       "['NOOP', 'FIRE', 'RIGHT', 'LEFT']"
      ]
     },
     "execution_count": 4,
     "metadata": {},
     "output_type": "execute_result"
    }
   ],
   "source": [
    "actions"
   ]
  },
  {
   "cell_type": "code",
   "execution_count": 5,
   "metadata": {},
   "outputs": [
    {
     "data": {
      "text/plain": [
       "(6, 210, 160)"
      ]
     },
     "execution_count": 5,
     "metadata": {},
     "output_type": "execute_result"
    }
   ],
   "source": [
    "obs = env.reset()\n",
    "obs.shape"
   ]
  },
  {
   "cell_type": "code",
   "execution_count": 7,
   "metadata": {},
   "outputs": [
    {
     "data": {
      "text/plain": [
       "torch.Size([3, 210, 160])"
      ]
     },
     "execution_count": 7,
     "metadata": {},
     "output_type": "execute_result"
    }
   ],
   "source": [
    "frame_1 = obs[:3, :, :]\n",
    "frame_1_t = torch.tensor(frame_1, dtype=torch.float32)\n",
    "frame_1_t.shape\n"
   ]
  },
  {
   "cell_type": "code",
   "execution_count": 35,
   "metadata": {},
   "outputs": [],
   "source": [
    "import open_clip\n",
    "\n",
    "model, _, preprocess = open_clip.create_model_and_transforms('ViT-B-32', pretrained='laion2b_s34b_b79k')"
   ]
  },
  {
   "cell_type": "code",
   "execution_count": 36,
   "metadata": {},
   "outputs": [
    {
     "name": "stdout",
     "output_type": "stream",
     "text": [
      "(210, 160, 3)\n"
     ]
    },
    {
     "data": {
      "image/png": "[encoded data removed]",
      "text/plain": [
       "<Figure size 432x288 with 1 Axes>"
      ]
     },
     "metadata": {
      "needs_background": "light"
     },
     "output_type": "display_data"
    }
   ],
   "source": [
    "from matplotlib import pyplot as plt\n",
    "from PIL import Image\n",
    "import numpy as np\n",
    "\n",
    "i_f1 = frame_1.transpose(1, 2, 0)\n",
    "\n",
    "print(i_f1.shape)\n",
    "\n",
    "plt.imshow(frame_1.transpose(1, 2, 0) / 255)\n",
    "\n",
    "image_1 = Image.fromarray(np.uint8(frame_1.transpose(1, 2, 0)))"
   ]
  },
  {
   "cell_type": "code",
   "execution_count": 67,
   "metadata": {},
   "outputs": [
    {
     "data": {
      "text/plain": [
       "<matplotlib.image.AxesImage at 0x15e64214640>"
      ]
     },
     "execution_count": 67,
     "metadata": {},
     "output_type": "execute_result"
    },
    {
     "data": {
      "image/png": "[encoded data removed]",
      "text/plain": [
       "<Figure size 432x288 with 1 Axes>"
      ]
     },
     "metadata": {
      "needs_background": "light"
     },
     "output_type": "display_data"
    }
   ],
   "source": [
    "plt.imshow(image_1)"
   ]
  },
  {
   "cell_type": "code",
   "execution_count": 68,
   "metadata": {},
   "outputs": [],
   "source": [
    "ref_image = preprocess(image_1)"
   ]
  },
  {
   "cell_type": "code",
   "execution_count": 69,
   "metadata": {},
   "outputs": [
    {
     "name": "stderr",
     "output_type": "stream",
     "text": [
      "WARNING:matplotlib.image:Clipping input data to the valid range for imshow with RGB data ([0..1] for floats or [0..255] for integers).\n"
     ]
    },
    {
     "data": {
      "text/plain": [
       "<matplotlib.image.AxesImage at 0x15e68e22730>"
      ]
     },
     "execution_count": 69,
     "metadata": {},
     "output_type": "execute_result"
    },
    {
     "data": {
      "image/png": "[encoded data removed]",
      "text/plain": [
       "<Figure size 432x288 with 1 Axes>"
      ]
     },
     "metadata": {
      "needs_background": "light"
     },
     "output_type": "display_data"
    }
   ],
   "source": [
    "plt.imshow(ref_image.permute(1, 2, 0))"
   ]
  },
  {
   "cell_type": "code",
   "execution_count": 70,
   "metadata": {},
   "outputs": [],
   "source": [
    "from torchvision.transforms.v2 import Normalize, ToImage, ToTensor, Compose, Resize\n",
    "mean = (0.48145466, 0.4578275, 0.40821073)\n",
    "std = (0.26862954, 0.26130258, 0.27577711)\n",
    "\n",
    "normalize = Normalize(mean=mean, std=std)\n",
    "\n",
    "transforms = Compose([\n",
    "    ToImage(),\n",
    "    Resize((224, 224), antialias=True),\n",
    "    Normalize(mean=mean, std=std),\n",
    "    ToTensor()\n",
    "])\n",
    "\n",
    "image_man = transforms(frame_1_t / 255)"
   ]
  },
  {
   "cell_type": "code",
   "execution_count": 71,
   "metadata": {},
   "outputs": [],
   "source": [
    "\n",
    "diff = image_man - ref_image\n"
   ]
  },
  {
   "cell_type": "code",
   "execution_count": 72,
   "metadata": {},
   "outputs": [
    {
     "name": "stderr",
     "output_type": "stream",
     "text": [
      "WARNING:matplotlib.image:Clipping input data to the valid range for imshow with RGB data ([0..1] for floats or [0..255] for integers).\n"
     ]
    },
    {
     "data": {
      "text/plain": [
       "<matplotlib.image.AxesImage at 0x15e62defac0>"
      ]
     },
     "execution_count": 72,
     "metadata": {},
     "output_type": "execute_result"
    },
    {
     "data": {
      "image/png": "[encoded data removed]",
      "text/plain": [
       "<Figure size 432x288 with 1 Axes>"
      ]
     },
     "metadata": {
      "needs_background": "light"
     },
     "output_type": "display_data"
    }
   ],
   "source": [
    "plt.imshow(diff.permute(1, 2, 0))"
   ]
  },
  {
   "cell_type": "code",
   "execution_count": null,
   "metadata": {},
   "outputs": [],
   "source": []
  }
 ],
 "metadata": {
  "kernelspec": {
   "display_name": "Python 3",
   "language": "python",
   "name": "python3"
  },
  "language_info": {
   "codemirror_mode": {
    "name": "ipython",
    "version": 3
   },
   "file_extension": ".py",
   "mimetype": "text/x-python",
   "name": "python",
   "nbconvert_exporter": "python",
   "pygments_lexer": "ipython3",
   "version": "3.9.13"
  }
 },
 "nbformat": 4,
 "nbformat_minor": 2
}

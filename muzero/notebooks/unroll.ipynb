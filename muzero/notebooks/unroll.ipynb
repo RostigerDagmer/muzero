{
 "cells": [
  {
   "cell_type": "code",
   "execution_count": 2,
   "metadata": {},
   "outputs": [
    {
     "name": "stdout",
     "output_type": "stream",
     "text": [
      "The autoreload extension is already loaded. To reload it, use:\n",
      "  %reload_ext autoreload\n"
     ]
    }
   ],
   "source": [
    "%load_ext autoreload\n",
    "%autoreload 2"
   ]
  },
  {
   "cell_type": "code",
   "execution_count": 2,
   "metadata": {},
   "outputs": [],
   "source": [
    "import sys\n",
    "sys.path.append('../..')\n",
    "from muzero.config import make_atari_config\n",
    "from muzero.continous.io import ContinousActionDecoder, ContinousActionEncoder\n",
    "from muzero.continous.net import ContinousMuzeroNet, VitConfig\n",
    "from muzero.gym_env import create_atari_environment\n",
    "import numpy as np"
   ]
  },
  {
   "cell_type": "code",
   "execution_count": 2,
   "metadata": {},
   "outputs": [
    {
     "name": "stderr",
     "output_type": "stream",
     "text": [
      "A.L.E: Arcade Learning Environment (version 0.7.4+069f8bd)\n",
      "[Powered by Stella]\n",
      "/Users/paul/dev/muzero/.venv/lib/python3.10/site-packages/gym/utils/seeding.py:138: DeprecationWarning: \u001b[33mWARN: Function `hash_seed(seed, max_bytes)` is marked as deprecated and will be removed in the future. \u001b[0m\n",
      "  deprecation(\n",
      "/Users/paul/dev/muzero/.venv/lib/python3.10/site-packages/gym/utils/seeding.py:175: DeprecationWarning: \u001b[33mWARN: Function `_bigint_from_bytes(bytes)` is marked as deprecated and will be removed in the future. \u001b[0m\n",
      "  deprecation(\n",
      "/Users/paul/dev/muzero/muzero/notebooks/../../muzero/gym_env.py:429: DeprecationWarning: `np.bool8` is a deprecated alias for `np.bool_`.  (Deprecated NumPy 1.24)\n",
      "  self.actions_mask = np.ones(num_actions, dtype=np.bool8).flatten()\n"
     ]
    },
    {
     "name": "stdout",
     "output_type": "stream",
     "text": [
      "formatted actions: ['action: NOOP', 'action: FIRE', 'action: RIGHT', 'action: LEFT', 'action: RIGHTFIRE', 'action: LEFTFIRE']\n"
     ]
    },
    {
     "ename": "TypeError",
     "evalue": "SimpleTokenizer.__call__() got an unexpected keyword argument 'padding'",
     "output_type": "error",
     "traceback": [
      "\u001b[0;31m---------------------------------------------------------------------------\u001b[0m",
      "\u001b[0;31mTypeError\u001b[0m                                 Traceback (most recent call last)",
      "Cell \u001b[0;32mIn[2], line 34\u001b[0m\n\u001b[1;32m     31\u001b[0m formatted_actions \u001b[38;5;241m=\u001b[39m [\u001b[38;5;124mf\u001b[39m\u001b[38;5;124m\"\u001b[39m\u001b[38;5;124maction: \u001b[39m\u001b[38;5;132;01m{\u001b[39;00maction\u001b[38;5;132;01m}\u001b[39;00m\u001b[38;5;124m\"\u001b[39m \u001b[38;5;28;01mfor\u001b[39;00m action \u001b[38;5;129;01min\u001b[39;00m eval_actions]\n\u001b[1;32m     32\u001b[0m \u001b[38;5;28mprint\u001b[39m(\u001b[38;5;124mf\u001b[39m\u001b[38;5;124m\"\u001b[39m\u001b[38;5;124mformatted actions: \u001b[39m\u001b[38;5;132;01m{\u001b[39;00mformatted_actions\u001b[38;5;132;01m}\u001b[39;00m\u001b[38;5;124m\"\u001b[39m)\n\u001b[0;32m---> 34\u001b[0m tokenized_actions \u001b[38;5;241m=\u001b[39m \u001b[43mtokenizer\u001b[49m\u001b[43m(\u001b[49m\u001b[43mformatted_actions\u001b[49m\u001b[43m,\u001b[49m\u001b[43m \u001b[49m\u001b[43mpadding\u001b[49m\u001b[38;5;241;43m=\u001b[39;49m\u001b[38;5;28;43;01mTrue\u001b[39;49;00m\u001b[43m,\u001b[49m\u001b[43m \u001b[49m\u001b[43mreturn_tensors\u001b[49m\u001b[38;5;241;43m=\u001b[39;49m\u001b[38;5;124;43m\"\u001b[39;49m\u001b[38;5;124;43mpt\u001b[39;49m\u001b[38;5;124;43m\"\u001b[39;49m\u001b[43m)\u001b[49m\u001b[38;5;241m.\u001b[39mto(runtime_device)\n\u001b[1;32m     35\u001b[0m \u001b[38;5;66;03m# print(f\"tokenized actions: {tokenized_actions}\")\u001b[39;00m\n\u001b[1;32m     36\u001b[0m action_encoder \u001b[38;5;241m=\u001b[39m ContinousActionEncoder()\n",
      "\u001b[0;31mTypeError\u001b[0m: SimpleTokenizer.__call__() got an unexpected keyword argument 'padding'"
     ]
    }
   ],
   "source": [
    "runtime_device = \"cuda\"\n",
    "\n",
    "random_state = np.random.RandomState(42)\n",
    "\n",
    "def environment_builder():\n",
    "    return create_atari_environment(\n",
    "        env_name=\"Pong\",\n",
    "        screen_height=224,\n",
    "        screen_width=224,\n",
    "        frame_skip=4,\n",
    "        frame_stack=2,\n",
    "        max_episode_steps=1000,\n",
    "        seed=random_state.randint(1, 2**31),\n",
    "        noop_max=30,\n",
    "        terminal_on_life_loss=False,\n",
    "        clip_reward=False,\n",
    "        output_actions=True,\n",
    "        resize_and_gray=False\n",
    "    )\n",
    "\n",
    "eval_env, eval_actions = environment_builder()\n",
    "\n",
    "config = make_atari_config(\n",
    "        num_training_steps=10,\n",
    "        batch_size=2,\n",
    "        min_replay_size=2,\n",
    "        use_tensorboard=False,\n",
    "        clip_grad=True,\n",
    "    )\n",
    "    \n",
    "formatted_actions = [f\"action: {action}\" for action in eval_actions]\n",
    "print(f\"formatted actions: {formatted_actions}\")\n",
    "\n",
    "tokenized_actions = tokenizer(formatted_actions, padding=True, return_tensors=\"pt\").to(runtime_device)\n",
    "# print(f\"tokenized actions: {tokenized_actions}\")\n",
    "action_encoder = ContinousActionEncoder()\n",
    "action_embeddings = action_encoder(tokenized_actions.input_ids, tokenized_actions.attention_mask)\n",
    "\n",
    "print(\"action embeddings shape: \", action_embeddings.shape)\n",
    "\n",
    "action_decoder = ContinousActionDecoder(action_embeddings)\n",
    "\n",
    "network = ContinousMuzeroNet(\n",
    "    action_encoder,\n",
    "    action_decoder,\n",
    "    action_embeddings.shape[-1],\n",
    "    VitConfig(),\n",
    "    config.num_planes,\n",
    "    config.value_support_size,\n",
    "    config.reward_support_size,\n",
    ")"
   ]
  },
  {
   "cell_type": "code",
   "execution_count": null,
   "metadata": {},
   "outputs": [
    {
     "name": "stdout",
     "output_type": "stream",
     "text": [
      "env: PROTOCOL_BUFFERS_PYTHON_IMPLEMENTATION=python\n"
     ]
    }
   ],
   "source": [
    "%env PROTOCOL_BUFFERS_PYTHON_IMPLEMENTATION=python"
   ]
  },
  {
   "cell_type": "code",
   "execution_count": null,
   "metadata": {},
   "outputs": [],
   "source": [
    "\n",
    "\n",
    "import copy\n",
    "import logging\n",
    "import multiprocessing\n",
    "from typing import Callable, Iterable, List, Optional\n",
    "\n",
    "import gym\n",
    "import torch\n",
    "from muzero.config import MuZeroConfig\n",
    "from muzero.mcts import uct_search\n",
    "from muzero.network import MuZeroNet\n",
    "from muzero.pipeline import compute_mc_return_target, compute_n_step_target, handle_exit_signal\n",
    "from muzero.replay import Transition\n",
    "from muzero.trackers import make_actor_trackers\n",
    "\n",
    "\n",
    "def make_continous_unroll_sequence(\n",
    "    observations: List[np.ndarray],\n",
    "    actions: List[np.ndarray],\n",
    "    rewards: List[float],\n",
    "    pi_probs: List[np.ndarray],\n",
    "    values: List[float],\n",
    "    priorities: List[float],\n",
    "    unroll_steps: int,\n",
    ") -> Iterable[Transition]:\n",
    "    \"\"\"Turn a lists of episode history into a list of structured transition object,\n",
    "    and stack unroll_steps for actions, rewards, values, MCTS policy.\n",
    "\n",
    "    Args:\n",
    "        observations: a list of history environment observations.\n",
    "        actions: a list of history actual actions taken in the environment.\n",
    "        rewards: a list of history reward received from the environment.\n",
    "        pi_probs: a list of history policy probabilities from the MCTS search result.\n",
    "        values: a list of n-step target value.\n",
    "        priorities: a list of priorities for each transition.\n",
    "        unroll_steps: number of unroll steps during traning.\n",
    "\n",
    "    Returns:\n",
    "        yeilds tuple of structured Transition object and the associated priority for the specific transition.\n",
    "\n",
    "    \"\"\"\n",
    "\n",
    "    T = len(observations)\n",
    "\n",
    "    # States past the end of games are treated as absorbing states.\n",
    "    if len(actions) == T:\n",
    "        actions += [0] * unroll_steps\n",
    "    if len(rewards) == T:\n",
    "        rewards += [0] * unroll_steps\n",
    "    if len(values) == T:\n",
    "        values += [0] * unroll_steps\n",
    "    if len(pi_probs) == T:\n",
    "        absorb_policy = np.ones_like(pi_probs[-1]) / len(pi_probs[-1])\n",
    "        pi_probs += [absorb_policy] * unroll_steps\n",
    "\n",
    "    assert len(actions) == len(rewards) == len(values) == len(pi_probs) == T + unroll_steps\n",
    "\n",
    "    for t in range(T):\n",
    "        end_index = t + unroll_steps\n",
    "        action_sequence = torch.stack([action.cpu().float() for action in actions[t:end_index]])\n",
    "        print(\" ================= action_sequence: \", action_sequence)\n",
    "        print(\" ================= action_sequence shape: \", [action.shape for action in action_sequence])\n",
    "        stacked_action = action_sequence.numpy()\n",
    "        stacked_reward = np.array(rewards[t:end_index], dtype=np.float32)\n",
    "        stacked_value = np.array(values[t:end_index], dtype=np.float32)\n",
    "        stacked_pi_prob = np.array(pi_probs[t:end_index], dtype=np.float32)\n",
    "\n",
    "        yield (\n",
    "            Transition(\n",
    "                state=observations[t],  # no stacking for observation, since it is only used to get initial hidden state.\n",
    "                action=stacked_action,\n",
    "                reward=stacked_reward,\n",
    "                value=stacked_value,\n",
    "                pi_prob=stacked_pi_prob,\n",
    "            ),\n",
    "            priorities[t],\n",
    "        )\n",
    "        \n",
    "\n",
    "@torch.no_grad()\n",
    "def run_self_play(\n",
    "    config: MuZeroConfig,\n",
    "    rank: int,\n",
    "    network: MuZeroNet,\n",
    "    device: torch.device,\n",
    "    env: gym.Env,\n",
    "    data_queue: multiprocessing.Queue,\n",
    "    train_steps_counter: multiprocessing.Value,\n",
    "    stop_event: multiprocessing.Event,\n",
    "    tag: str = None,\n",
    "    no_mask: bool = False,\n",
    "    action_decoder: Optional[Callable] = None,\n",
    "    action_encoder: Optional[Callable] = None,\n",
    ") -> None:\n",
    "    \"\"\"Run self-play for as long as needed, only stop if `stop_event` is set to True.\n",
    "\n",
    "    Args:\n",
    "        config: a MuZeroConfig instance.\n",
    "        rank: actor process rank.\n",
    "        network: a MuZeroNet instance for acting.\n",
    "        device: PyTorch runtime device.\n",
    "        env: actor's env.\n",
    "        data_queue: a multiprocessing.Queue instance to send samples to leaner.\n",
    "        train_steps_counter: a multiprocessing.Value instance to count current training steps.\n",
    "        stop_event: a multiprocessing.Event instance signals stop run pipeline.\n",
    "        tag: add tag to tensorboard log dir.\n",
    "    \"\"\"\n",
    "\n",
    "    handle_exit_signal()\n",
    "    logging.info(f'Start self-play actor {rank}')\n",
    "\n",
    "    tb_log_dir = f'actor{rank}'\n",
    "    if tag is not None and tag != '':\n",
    "        tb_log_dir = f'{tag}_{tb_log_dir}'\n",
    "\n",
    "    trackers = make_actor_trackers(tb_log_dir) if config.use_tensorboard else []\n",
    "    for tracker in trackers:\n",
    "        tracker.reset()\n",
    "\n",
    "    network = network.to(device=device)\n",
    "    network.eval()\n",
    "    game = 0\n",
    "\n",
    "    while not stop_event.is_set():  # For each new game.\n",
    "        obs = env.reset()\n",
    "        done = False\n",
    "        episode_trajectory = []\n",
    "        steps = 0\n",
    "\n",
    "        # Play and record transitions.\n",
    "        # the second check is necessary becase the pipeline could have already stopped while the actor is in the middle of a game.\n",
    "        while not done and not stop_event.is_set():\n",
    "            # Make a copy of current player id.\n",
    "            player_id = copy.deepcopy(env.current_player)\n",
    "            # print(\" ================= obs shape: \", obs.shape)\n",
    "            action, pi_prob, root_value = uct_search(\n",
    "                state=obs,\n",
    "                network=network,\n",
    "                device=device,\n",
    "                config=config,\n",
    "                temperature=config.visit_softmax_temperature_fn(steps, train_steps_counter.value),\n",
    "                actions_mask=env.actions_mask,#None if no_mask else env.actions_mask,\n",
    "                current_player=env.current_player,\n",
    "                opponent_player=env.opponent_player,\n",
    "                action_encoder=action_encoder,\n",
    "            )\n",
    "            \n",
    "            # if action_decoder is not None:\n",
    "                # action = action_decoder(action)\n",
    "            # print(\" ================= action: \", action)\n",
    "\n",
    "            next_obs, reward, done, _ = env.step(action)\n",
    "            steps += 1\n",
    "            print (\" ================= iteration: \", steps)\n",
    "            if (steps % 10) == 0:\n",
    "                done = True\n",
    "            action = action if action_encoder is None else action_encoder(action)\n",
    "            for tracker in trackers:\n",
    "                tracker.step(reward, done)\n",
    "\n",
    "            episode_trajectory.append((obs, action, reward, pi_prob, root_value, player_id))\n",
    "            obs = next_obs\n",
    "            \n",
    "            # Send samples to learner every N steps on Atari games.\n",
    "            # Here we accmulate N + unroll_steps + td_steps because\n",
    "            # we needs these extra sequences to compute the target and unroll sequences.\n",
    "            if (\n",
    "                not config.is_board_game\n",
    "                and len(episode_trajectory) == config.acc_seq_length + config.unroll_steps + config.td_steps\n",
    "            ):\n",
    "                # Unpack list of tuples into seperate lists.\n",
    "                observations, actions, rewards, pi_probs, root_values, _ = map(list, zip(*episode_trajectory))\n",
    "                # Compute n_step target value.\n",
    "                target_values = compute_n_step_target(rewards, root_values, config.td_steps, config.discount)\n",
    "\n",
    "                priorities = np.abs(np.array(root_values) - np.array(target_values))\n",
    "\n",
    "                print(\" ================= actions: \", actions[: config.acc_seq_length + config.unroll_steps])\n",
    "                # Make unroll sequences and send to learner.\n",
    "                for transition, priority in make_continous_unroll_sequence(\n",
    "                    observations[: config.acc_seq_length],\n",
    "                    actions[: config.acc_seq_length + config.unroll_steps],\n",
    "                    rewards[: config.acc_seq_length + config.unroll_steps],\n",
    "                    pi_probs[: config.acc_seq_length + config.unroll_steps],\n",
    "                    target_values[: config.acc_seq_length + config.unroll_steps],\n",
    "                    priorities[: config.acc_seq_length + config.unroll_steps],\n",
    "                    config.unroll_steps,\n",
    "                ):\n",
    "                    shapes = {\n",
    "                        \"state\": transition.state.shape,\n",
    "                        \"action\": transition.action.shape,\n",
    "                        \"reward\": transition.reward.shape,\n",
    "                        \"value\": transition.value.shape,\n",
    "                        \"pi_prob\": transition.pi_prob.shape,\n",
    "                    }\n",
    "                    print(f\"Transition shapes: {shapes}\")\n",
    "                    data_queue.put((transition, priority))\n",
    "\n",
    "                del episode_trajectory[: config.acc_seq_length]\n",
    "                del (observations, actions, rewards, pi_probs, root_values, priorities, target_values)\n",
    "\n",
    "        game += 1\n",
    "\n",
    "        # Unpack list of tuples into seperate lists.\n",
    "        observations, actions, rewards, pi_probs, root_values, player_ids = map(list, zip(*episode_trajectory))\n",
    "        \n",
    "        if config.is_board_game:\n",
    "            # Using MC returns as target value.\n",
    "            target_values = compute_mc_return_target(rewards, player_ids)\n",
    "        else:\n",
    "            # Compute n_step target value.\n",
    "            target_values = compute_n_step_target(rewards, root_values, config.td_steps, config.discount)\n",
    "\n",
    "        priorities = np.abs(np.array(root_values) - np.array(target_values))\n",
    "        print(\" =============== full unroll\")\n",
    "        # Make unroll sequences and send to learner.\n",
    "        for transition, priority in make_continous_unroll_sequence(\n",
    "            observations, actions, rewards, pi_probs, target_values, priorities, config.unroll_steps\n",
    "        ):\n",
    "            data_queue.put((transition, priority))\n",
    "\n",
    "        del episode_trajectory[:]\n",
    "        del (observations, actions, rewards, pi_probs, root_values, priorities, player_ids, target_values)\n",
    "\n",
    "    logging.info(f'Stop self-play actor {rank}')\n"
   ]
  },
  {
   "cell_type": "code",
   "execution_count": null,
   "metadata": {},
   "outputs": [
    {
     "name": "stderr",
     "output_type": "stream",
     "text": [
      "I0409 00:29:14.819081 31244 1644529528.py:110] Start self-play actor 0\n"
     ]
    },
    {
     "name": "stdout",
     "output_type": "stream",
     "text": [
      " ================= iteration:  1\n",
      " ================= iteration:  2\n",
      " ================= iteration:  3\n",
      " ================= iteration:  4\n",
      " ================= iteration:  5\n",
      " ================= iteration:  6\n",
      " ================= iteration:  7\n",
      " ================= iteration:  8\n",
      " ================= iteration:  9\n",
      " ================= iteration:  10\n",
      " =============== full unroll\n",
      " ================= action_sequence:  tensor([[ 0.5000, -0.1348,  1.2188,  ..., -1.5156,  1.1406,  1.3828],\n",
      "        [ 0.6836, -1.2031,  1.2188,  ..., -2.0156,  0.5859,  2.7500],\n",
      "        [ 0.4648, -0.3516,  1.2188,  ..., -0.6562,  1.9766,  1.3828],\n",
      "        [ 0.6836,  0.4941,  1.2188,  ..., -1.2031,  0.9609,  1.3828],\n",
      "        [ 1.0234, -0.1973,  1.2188,  ..., -0.7070,  1.0312,  1.3828]])\n",
      " ================= action_sequence shape:  [torch.Size([2048]), torch.Size([2048]), torch.Size([2048]), torch.Size([2048]), torch.Size([2048])]\n"
     ]
    },
    {
     "ename": "",
     "evalue": "",
     "output_type": "error",
     "traceback": [
      "\u001b[1;31mThe Kernel crashed while executing code in the current cell or a previous cell. \n",
      "\u001b[1;31mPlease review the code in the cell(s) to identify a possible cause of the failure. \n",
      "\u001b[1;31mClick <a href='https://aka.ms/vscodeJupyterKernelCrash'>here</a> for more info. \n",
      "\u001b[1;31mView Jupyter <a href='command:jupyter.viewOutput'>log</a> for further details."
     ]
    }
   ],
   "source": [
    "import multiprocessing\n",
    "import torch\n",
    "from torch.optim.lr_scheduler import MultiStepLR\n",
    "from muzero.atari_v2.run_training import ActionEncoderWith\n",
    "from muzero.pipeline import run_training\n",
    "from muzero.replay import PrioritizedReplay\n",
    "\n",
    "optimizer = torch.optim.Adam(network.parameters(), lr=config.lr_init, weight_decay=config.weight_decay)\n",
    "lr_scheduler = MultiStepLR(optimizer, milestones=config.lr_milestones, gamma=config.lr_decay_rate)\n",
    "replay = PrioritizedReplay(\n",
    "        10,\n",
    "        0.0,\n",
    "        0.0,\n",
    "        random_state,\n",
    "    )\n",
    "data_queue = multiprocessing.SimpleQueue()\n",
    "train_steps_counter = multiprocessing.Value('i', 0)\n",
    "manager = multiprocessing.Manager()\n",
    "checkpoint_files = manager.list()\n",
    "stop_event = multiprocessing.Event()\n",
    "\n",
    "action_encoder = ActionEncoderWith(action_embeddings)\n",
    "\n",
    "run_self_play(\n",
    "            config,\n",
    "            0,\n",
    "            network,\n",
    "            runtime_device,\n",
    "            eval_env,\n",
    "            data_queue,\n",
    "            train_steps_counter,\n",
    "            stop_event,\n",
    "            \"tag\",\n",
    "            False,\n",
    "            action_decoder,\n",
    "            action_encoder,\n",
    "            )"
   ]
  },
  {
   "cell_type": "code",
   "execution_count": 13,
   "metadata": {},
   "outputs": [
    {
     "data": {
      "text/plain": [
       "[<matplotlib.lines.Line2D at 0x2c505efe0>]"
      ]
     },
     "execution_count": 13,
     "metadata": {},
     "output_type": "execute_result"
    },
    {
     "data": {
      "image/png": "[encoded data removed]",
      "text/plain": [
       "<Figure size 640x480 with 1 Axes>"
      ]
     },
     "metadata": {},
     "output_type": "display_data"
    }
   ],
   "source": [
    "import torch\n",
    "import matplotlib.pyplot as plt\n",
    "import math\n",
    "\n",
    "def normalized_gaussian(i: int, l: int, phi: float) -> torch.Tensor:\n",
    "    # Generate an array of indices\n",
    "    x = torch.arange(l)\n",
    "    # Calculate the Gaussian function\n",
    "    gaussian = torch.exp(-0.5 * ((x - i) / math.sqrt(phi)) ** 2)\n",
    "    # Normalize the Gaussian to sum to 1\n",
    "    normalized_gaussian = gaussian / torch.sum(gaussian)\n",
    "    return normalized_gaussian\n",
    "\n",
    "d = normalized_gaussian(2, 4, 0.1)\n",
    "plt.plot(d)"
   ]
  },
  {
   "cell_type": "code",
   "execution_count": 100,
   "metadata": {},
   "outputs": [
    {
     "data": {
      "image/png": "[encoded data removed]",
      "text/plain": [
       "<Figure size 640x480 with 1 Axes>"
      ]
     },
     "metadata": {},
     "output_type": "display_data"
    }
   ],
   "source": [
    "def normalized_uniform(i: int, l: int, temp: float) -> torch.Tensor:\n",
    "    scales = torch.ones(l) * temp\n",
    "    scales[i] = 1\n",
    "    random_sample = torch.rand(l) * math.log(2.71828 * temp + 1) + (1 - temp)\n",
    "    scaled_sample = random_sample * scales\n",
    "    normalized_sample = scaled_sample / torch.sum(scaled_sample)\n",
    "    return normalized_sample\n",
    "\n",
    "for i in range(10):\n",
    "    d = normalized_uniform(2, 4, 0.5)\n",
    "    plt.plot(d)\n",
    "\n",
    "plt.show()"
   ]
  },
  {
   "cell_type": "code",
   "execution_count": 70,
   "metadata": {},
   "outputs": [
    {
     "data": {
      "text/plain": [
       "0.999999327347282"
      ]
     },
     "execution_count": 70,
     "metadata": {},
     "output_type": "execute_result"
    }
   ],
   "source": [
    "math.log(2.71828)"
   ]
  },
  {
   "cell_type": "code",
   "execution_count": 103,
   "metadata": {},
   "outputs": [
    {
     "data": {
      "text/plain": [
       "[<matplotlib.lines.Line2D at 0x3842b3df0>]"
      ]
     },
     "execution_count": 103,
     "metadata": {},
     "output_type": "execute_result"
    },
    {
     "data": {
      "image/png": "[encoded data removed]",
      "text/plain": [
       "<Figure size 640x480 with 1 Axes>"
      ]
     },
     "metadata": {},
     "output_type": "display_data"
    }
   ],
   "source": [
    "def continous_annealing(step: int):\n",
    "    total_steps = 1e6\n",
    "    return math.exp(-0.5 * math.log(total_steps) * step / total_steps)\n",
    "\n",
    "values = [continous_annealing(i) for i in range(int(1e6))]\n",
    "plt.plot(values)"
   ]
  },
  {
   "cell_type": "code",
   "execution_count": 91,
   "metadata": {},
   "outputs": [
    {
     "data": {
      "text/plain": [
       "3162.2776601683795"
      ]
     },
     "execution_count": 91,
     "metadata": {},
     "output_type": "execute_result"
    }
   ],
   "source": [
    "math.sqrt(10e6)"
   ]
  },
  {
   "cell_type": "code",
   "execution_count": 17,
   "metadata": {},
   "outputs": [],
   "source": [
    "import numpy as np\n",
    "\n",
    "\n",
    "a = np.random.rand(20, 128)"
   ]
  },
  {
   "cell_type": "code",
   "execution_count": null,
   "metadata": {},
   "outputs": [],
   "source": [
    "q = np.random.rand(5, 128)"
   ]
  },
  {
   "cell_type": "code",
   "execution_count": null,
   "metadata": {},
   "outputs": [],
   "source": [
    "sims = np.einsum('ik, jk -> ij', a, q)"
   ]
  },
  {
   "cell_type": "code",
   "execution_count": 3,
   "metadata": {},
   "outputs": [
    {
     "ename": "NameError",
     "evalue": "name 'sims' is not defined",
     "output_type": "error",
     "traceback": [
      "\u001b[0;31m---------------------------------------------------------------------------\u001b[0m",
      "\u001b[0;31mNameError\u001b[0m                                 Traceback (most recent call last)",
      "Cell \u001b[0;32mIn[3], line 1\u001b[0m\n\u001b[0;32m----> 1\u001b[0m \u001b[38;5;28mlen\u001b[39m(np\u001b[38;5;241m.\u001b[39mmax(\u001b[43msims\u001b[49m, axis\u001b[38;5;241m=\u001b[39m\u001b[38;5;241m-\u001b[39m\u001b[38;5;241m1\u001b[39m)\u001b[38;5;241m.\u001b[39mtolist())\n",
      "\u001b[0;31mNameError\u001b[0m: name 'sims' is not defined"
     ]
    }
   ],
   "source": [
    "len(np.max(sims, axis=-1).tolist())"
   ]
  },
  {
   "cell_type": "code",
   "execution_count": 4,
   "metadata": {},
   "outputs": [
    {
     "name": "stdout",
     "output_type": "stream",
     "text": [
      "torch.Size([10, 20])\n",
      "torch.Size([10, 5])\n"
     ]
    }
   ],
   "source": [
    "import torch\n",
    "from typing import Callable\n",
    "\n",
    "BATCH_SIZE = 10\n",
    "FEATURE_IN = 15\n",
    "FEATURE_HIDDEN = 20\n",
    "FEATURE_OUT = 5\n",
    "\n",
    "X = torch.rand(BATCH_SIZE, FEATURE_IN)\n",
    "W1 = torch.rand(FEATURE_IN, FEATURE_HIDDEN)\n",
    "W2 = torch.rand(FEATURE_HIDDEN, FEATURE_OUT)\n",
    "\n",
    "relu: Callable[[torch.Tensor], torch.Tensor] = lambda x: torch.maximum(torch.zeros_like(x), x)\n",
    "\n",
    "L1 = torch.einsum('bi, ik -> bk', X, W1)\n",
    "print(L1.shape)\n",
    "Y = relu(L1)\n",
    "L2 = torch.einsum('kl, lm -> km', Y, W2)\n",
    "print(L2.shape)"
   ]
  },
  {
   "cell_type": "code",
   "execution_count": 5,
   "metadata": {},
   "outputs": [
    {
     "data": {
      "text/plain": [
       "tensor([[44.9728, 51.2455, 41.0634, 47.6049, 51.1049],\n",
       "        [34.4813, 39.3794, 33.2365, 37.8387, 40.4970],\n",
       "        [45.8747, 52.1951, 41.3250, 49.0369, 51.1205],\n",
       "        [24.7668, 28.1200, 21.6890, 26.4771, 27.7048],\n",
       "        [34.7036, 40.4682, 33.4993, 38.4275, 40.8574],\n",
       "        [37.2981, 41.4486, 33.1060, 39.6377, 42.1140],\n",
       "        [39.5917, 45.3085, 36.5566, 42.5559, 44.1063],\n",
       "        [38.2524, 43.8538, 35.4368, 41.8323, 43.5950],\n",
       "        [36.8876, 42.3559, 33.9741, 40.5927, 41.7260],\n",
       "        [29.0999, 32.9907, 26.5787, 31.2052, 33.2041]])"
      ]
     },
     "execution_count": 5,
     "metadata": {},
     "output_type": "execute_result"
    }
   ],
   "source": [
    "L2"
   ]
  },
  {
   "cell_type": "code",
   "execution_count": 6,
   "metadata": {},
   "outputs": [
    {
     "name": "stdout",
     "output_type": "stream",
     "text": [
      "torch.Size([10, 20, 64])\n",
      "torch.Size([10, 20, 64])\n",
      "torch.Size([10, 20, 64])\n",
      "torch.Size([10, 64, 64])\n"
     ]
    }
   ],
   "source": [
    "import torch\n",
    "import torch.nn.functional as F\n",
    "import math\n",
    "\n",
    "BATCH_SIZE = 10\n",
    "SEQ_LEN = 20\n",
    "FEATURES = 64\n",
    "\n",
    "# Input matrix X\n",
    "X = torch.rand(BATCH_SIZE, SEQ_LEN, FEATURES)\n",
    "\n",
    "# Weight matrices\n",
    "W_q = torch.rand(FEATURES, FEATURES)\n",
    "W_k = torch.rand(FEATURES, FEATURES)\n",
    "W_v = torch.rand(FEATURES, FEATURES)\n",
    "\n",
    "sqrt_d = math.sqrt(FEATURES)\n",
    "softmax: Callable[[torch.Tensor], torch.Tensor] = lambda z: torch.exp(z) / torch.sum(torch.exp(z), dim=-1).unsqueeze(-1)\n",
    "\n",
    "# Compute Query, Key, and Value projections: Given an input matrix X shaped (batch_size, seq_len, features),\n",
    "# compute the query, key, and value matrices using separate weight matrices W_q, W_k, and W_v respectively.\n",
    "# Each weight matrix is shaped (features, features). This will involve three separate matrix multiplications.\n",
    "\n",
    "P_q = torch.einsum('bsm, mk -> bsk', X, W_q)\n",
    "P_k = torch.einsum('bsm, mk -> bsk', X, W_k)\n",
    "P_v = torch.einsum('bsm, mk -> bsk', X, W_v)\n",
    "\n",
    "print(P_q.shape)\n",
    "print(P_k.shape)\n",
    "print(P_v.shape)\n",
    "\n",
    "# Compute the Attention Scores: Calculate the attention scores by taking the dot product of queries and keys,\n",
    "# and then apply scaling by the square root of the number of feature dimensions.\n",
    "QT = torch.einsum('bsk -> bks', P_q)\n",
    "QK = torch.einsum('bjs, bsk -> bjk', QT, P_k) # matrix multiply\n",
    "# The resulting scores should be shaped (batch_size, seq_len, seq_len).\n",
    "# Apply Softmax: Apply the softmax function across each row of the attention scores to normalize them.\n",
    "print(QK.shape)\n",
    "A = softmax(QK / sqrt_d)\n",
    "A.shape\n",
    "# Weighted Sum of Values: Use the normalized attention scores to compute a weighted sum of the values.\n",
    "V = torch.einsum('bjk, bsk -> bsk', A, P_v)\n"
   ]
  },
  {
   "cell_type": "code",
   "execution_count": 136,
   "metadata": {},
   "outputs": [
    {
     "data": {
      "text/plain": [
       "torch.Size([10, 20, 64])"
      ]
     },
     "execution_count": 136,
     "metadata": {},
     "output_type": "execute_result"
    }
   ],
   "source": [
    "V.shape"
   ]
  },
  {
   "cell_type": "code",
   "execution_count": 105,
   "metadata": {},
   "outputs": [
    {
     "name": "stdout",
     "output_type": "stream",
     "text": [
      "tensor([[0.6635, 0.4235, 0.1549, 0.1084, 0.8744, 0.0948, 0.9314, 0.6988, 0.2114,\n",
      "         0.2297, 0.2112, 0.7232, 0.9971, 0.6689, 0.3321, 0.7196],\n",
      "        [0.9258, 0.7788, 0.6970, 0.9834, 0.9905, 0.0980, 0.4416, 0.6862, 0.4453,\n",
      "         0.6187, 0.3885, 0.8789, 0.8337, 0.9387, 0.9999, 0.4996],\n",
      "        [0.3644, 0.1814, 0.9756, 0.0173, 0.1563, 0.9742, 0.9817, 0.8408, 0.5952,\n",
      "         0.0949, 0.0720, 0.2024, 0.6401, 0.1854, 0.0862, 0.1092],\n",
      "        [0.3694, 0.8715, 0.4646, 0.1043, 0.0541, 0.2567, 0.6724, 0.4861, 0.7344,\n",
      "         0.9440, 0.1602, 0.1917, 0.2132, 0.8115, 0.0479, 0.7009]])\n"
     ]
    }
   ],
   "source": [
    "z = torch.rand(4, 16)\n",
    "print(z)\n",
    "softmax: Callable[[torch.Tensor], torch.Tensor] = lambda z: torch.exp(z) / torch.sum(torch.exp(z), dim=-1).unsqueeze(-1)\n",
    "\n",
    "y = softmax(z)"
   ]
  },
  {
   "cell_type": "code",
   "execution_count": 106,
   "metadata": {},
   "outputs": [
    {
     "data": {
      "text/plain": [
       "torch.Size([4, 16])"
      ]
     },
     "execution_count": 106,
     "metadata": {},
     "output_type": "execute_result"
    }
   ],
   "source": [
    "y.shape"
   ]
  },
  {
   "cell_type": "code",
   "execution_count": 107,
   "metadata": {},
   "outputs": [
    {
     "data": {
      "text/plain": [
       "tensor([1.0000, 1.0000, 1.0000, 1.0000])"
      ]
     },
     "execution_count": 107,
     "metadata": {},
     "output_type": "execute_result"
    }
   ],
   "source": [
    "torch.sum(y, dim=-1)"
   ]
  },
  {
   "cell_type": "code",
   "execution_count": 138,
   "metadata": {},
   "outputs": [
    {
     "name": "stdout",
     "output_type": "stream",
     "text": [
      "torch.Size([10, 20, 64])\n"
     ]
    }
   ],
   "source": [
    "import torch\n",
    "import torch.nn.functional as F\n",
    "\n",
    "BATCH_SIZE = 10\n",
    "SEQ_LEN = 20\n",
    "FEATURES = 64\n",
    "\n",
    "# Input matrix X\n",
    "X = torch.rand(BATCH_SIZE, SEQ_LEN, FEATURES)\n",
    "\n",
    "# Weight matrices\n",
    "W_q = torch.rand(FEATURES, FEATURES)\n",
    "W_k = torch.rand(FEATURES, FEATURES)\n",
    "W_v = torch.rand(FEATURES, FEATURES)\n",
    "\n",
    "# Compute Query, Key, Value matrices\n",
    "Q = torch.einsum('bsf, fh -> bsh', X, W_q)  # Replace 'h' with the appropriate dimension if different\n",
    "K = torch.einsum('bsf, fh -> bsh', X, W_k)\n",
    "V = torch.einsum('bsf, fh -> bsh', X, W_v)\n",
    "\n",
    "# Compute Attention Scores\n",
    "scores = torch.einsum('bsh, bth -> bst', Q, K) / (FEATURES ** 0.5)\n",
    "\n",
    "# Apply Softmax\n",
    "scores_normalized = F.softmax(scores, dim=-1)\n",
    "\n",
    "# Weighted Sum of Values\n",
    "output = torch.einsum('bst, bsh -> bth', scores_normalized, V)\n",
    "\n",
    "# Output of the self-attention mechanism\n",
    "print(output.shape)  # Should be (BATCH_SIZE, SEQ_LEN, FEATURES)"
   ]
  },
  {
   "cell_type": "code",
   "execution_count": 3,
   "metadata": {},
   "outputs": [],
   "source": [
    "import torch\n",
    "\n",
    "example = torch.ones(4)"
   ]
  },
  {
   "cell_type": "code",
   "execution_count": 4,
   "metadata": {},
   "outputs": [],
   "source": [
    "def add_gaussian_noise(value: np.ndarray, sigma: float = 0.03) -> np.ndarray:\n",
    "    \"\"\"Add gaussian noise to a given value.\n",
    "    Args:\n",
    "        value: a numpy.array contains value we want to add noise to.\n",
    "        sigma: standard deviation of the gaussian noise.\n",
    "\n",
    "    Returns:\n",
    "        value with added gaussian noise.\n",
    "\n",
    "    Raises:\n",
    "        ValueError:\n",
    "            if input argument `value` is not a valid float numpy.array.\n",
    "            if input argument `sigma` is not float type.\n",
    "    \"\"\"\n",
    "\n",
    "    if not isinstance(value, np.ndarray) or value.dtype not in (np.float32, np.float64):\n",
    "        raise ValueError(f\"Expect `value` to be a numpy.array, got {value}\")\n",
    "    if not isinstance(sigma, float):\n",
    "        raise ValueError(f\"Expect `sigma` to be float type, got {sigma}\")\n",
    "\n",
    "    noise = np.random.normal(0, sigma, value.shape)\n",
    "    return value + noise"
   ]
  },
  {
   "cell_type": "code",
   "execution_count": 5,
   "metadata": {},
   "outputs": [
    {
     "ename": "NameError",
     "evalue": "name 'plt' is not defined",
     "output_type": "error",
     "traceback": [
      "\u001b[0;31m---------------------------------------------------------------------------\u001b[0m",
      "\u001b[0;31mNameError\u001b[0m                                 Traceback (most recent call last)",
      "Cell \u001b[0;32mIn[5], line 1\u001b[0m\n\u001b[0;32m----> 1\u001b[0m \u001b[43mplt\u001b[49m\u001b[38;5;241m.\u001b[39mplot(example)\n",
      "\u001b[0;31mNameError\u001b[0m: name 'plt' is not defined"
     ]
    }
   ],
   "source": [
    "from matplotlib import pyplot as plt\n",
    "\n",
    "plt.plot(example)"
   ]
  },
  {
   "cell_type": "code",
   "execution_count": null,
   "metadata": {},
   "outputs": [],
   "source": []
  }
 ],
 "metadata": {
  "kernelspec": {
   "display_name": "Python 3",
   "language": "python",
   "name": "python3"
  },
  "language_info": {
   "codemirror_mode": {
    "name": "ipython",
    "version": 3
   },
   "file_extension": ".py",
   "mimetype": "text/x-python",
   "name": "python",
   "nbconvert_exporter": "python",
   "pygments_lexer": "ipython3",
   "version": "3.10.9"
  }
 },
 "nbformat": 4,
 "nbformat_minor": 2
}
